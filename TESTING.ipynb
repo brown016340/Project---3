{
 "cells": [
  {
   "cell_type": "code",
   "execution_count": 1,
   "id": "9d69cf96",
   "metadata": {},
   "outputs": [
    {
     "data": {
      "application/vnd.jupyter.widget-view+json": {
       "model_id": "4c6e6ee6d2a54c56b32430b6027ec6ca",
       "version_major": 2,
       "version_minor": 0
      },
      "text/plain": [
       "Dropdown(description='List', index=1, options=('a', 'b', 'c'), value='b')"
      ]
     },
     "metadata": {},
     "output_type": "display_data"
    },
    {
     "data": {
      "image/png": "[encoded data removed]",
      "text/plain": [
       "<Figure size 640x480 with 1 Axes>"
      ]
     },
     "metadata": {},
     "output_type": "display_data"
    }
   ],
   "source": [
    "from IPython.display import display, clear_output\n",
    "import ipywidgets as widgets\n",
    "import seaborn as sns\n",
    "\n",
    "mydata = {'a': range(3),\n",
    "          'b': range(10),\n",
    "          'c': [1,1,1,2,2,5,8]}\n",
    "default = 'b'\n",
    "sns.boxplot(data=mydata[default])\n",
    "\n",
    "w = widgets.Dropdown(\n",
    "    options=mydata.keys(),\n",
    "    value = default,\n",
    "    description='List',\n",
    ")\n",
    "display(w)\n",
    "\n",
    "def on_change(change):\n",
    "    if change['name'] == 'value' and (change['new'] != change['old']):\n",
    "        clear_output()\n",
    "        display(w)\n",
    "        sns.boxplot(data = mydata[change['new']])\n",
    "\n",
    "w.observe(on_change)"
   ]
  },
  {
   "cell_type": "code",
   "execution_count": 2,
   "id": "fe8bcfe6",
   "metadata": {},
   "outputs": [
    {
     "name": "stdout",
     "output_type": "stream",
     "text": [
      "dict_keys(['a', 'b', 'c'])\n"
     ]
    }
   ],
   "source": [
    "print(mydata.keys())"
   ]
  },
  {
   "cell_type": "code",
   "execution_count": 1,
   "id": "8f72c298",
   "metadata": {},
   "outputs": [
    {
     "data": {
      "application/vnd.jupyter.widget-view+json": {
       "model_id": "e73bd2e195c24d6ea2815ce5ec25a25f",
       "version_major": 2,
       "version_minor": 0
      },
      "text/plain": [
       "interactive(children=(Dropdown(description='selected_map', options={'OpenStreetMap': {'url': 'https://tile.ope…"
      ]
     },
     "metadata": {},
     "output_type": "display_data"
    }
   ],
   "source": [
    "import ipywidgets as widgets\n",
    "from ipywidgets import interactive\n",
    "from ipyleaflet import Map, basemaps\n",
    "from IPython.display import display\n",
    "import warnings\n",
    "\n",
    "# Suppress TraitError warnings globally\n",
    "warnings.simplefilter(\"ignore\")\n",
    "\n",
    "# Function to dynamically create and display the selected map\n",
    "def display_map(selected_map):\n",
    "    # Create the selected map dynamically\n",
    "    map_to_display = Map(center=(0, 1), zoom=1, basemap=selected_map)\n",
    "    display(map_to_display)\n",
    "\n",
    "# Create an interactive widget with the display_map function and the dropdown\n",
    "interactive_map = interactive(display_map, selected_map={'OpenStreetMap': basemaps.OpenStreetMap.Mapnik, 'OpenTopoMap': basemaps.OpenTopoMap})\n",
    "\n",
    "# Display the interactive widget\n",
    "display(interactive_map)"
   ]
  }
 ],
 "metadata": {
  "kernelspec": {
   "display_name": "Python 3 (ipykernel)",
   "language": "python",
   "name": "python3"
  },
  "language_info": {
   "codemirror_mode": {
    "name": "ipython",
    "version": 3
   },
   "file_extension": ".py",
   "mimetype": "text/x-python",
   "name": "python",
   "nbconvert_exporter": "python",
   "pygments_lexer": "ipython3",
   "version": "3.11.5"
  }
 },
 "nbformat": 4,
 "nbformat_minor": 5
}
