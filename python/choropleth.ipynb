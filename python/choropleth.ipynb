{
 "cells": [
  {
   "cell_type": "code",
   "execution_count": null,
   "id": "62a59bb2",
   "metadata": {},
   "outputs": [],
   "source": [
    "# Dependencies and Setup\n",
    "import pandas as pd\n",
    "import requests\n",
    "# import numpy as np\n",
    "import io\n",
    "import ipyleaflet\n",
    "import json\n",
    "# from pathlib import Path\n",
    "# from pprint import pprint\n",
    "from ipyleaflet import Map, Marker, LayersControl, SearchControl, FullScreenControl, WidgetControl, GeoJSON, LayerGroup, Popup\n",
    "# from geopy.exc import GeocoderTimedOut \n",
    "# from geopy.geocoders import Nominatim \n",
    "# from ipywidgets import link, FloatSlider\n",
    "from branca.colormap import linear\n",
    "from pandas_geojson import to_geojson\n",
    "from ipywidgets import HTML, widgets\n",
    "from shapely.geometry import shape"
   ]
  },
  {
   "cell_type": "code",
   "execution_count": null,
   "id": "e4271f37",
   "metadata": {},
   "outputs": [],
   "source": [
    "# Downloading the csv file from the GitHub repository\n",
    "url = \"https://raw.githubusercontent.com/brown016340/Project---3/benjamin/data/coords.csv\"\n",
    "download = requests.get(url).content\n",
    "\n",
    "# Reading the downloaded content and turning it into a pandas dataframe\n",
    "coords_df = pd.read_csv(io.StringIO(download.decode('utf-8')))\n",
    "\n",
    "# Printing out the first 5 rows of the dataframe\n",
    "coords_df.head()"
   ]
  },
  {
   "cell_type": "code",
   "execution_count": null,
   "id": "7f438131",
   "metadata": {},
   "outputs": [],
   "source": [
    "# Downloading the csv file from the GitHub repository\n",
    "url = \"https://raw.githubusercontent.com/brown016340/Project---3/benjamin/data/2015.csv\"\n",
    "download = requests.get(url).content\n",
    "\n",
    "# Reading the downloaded content and turning it into a pandas dataframe\n",
    "data_df = pd.read_csv(io.StringIO(download.decode('utf-8')))\n",
    "\n",
    "# Printing out the first 5 rows of the dataframe\n",
    "data_df.head()"
   ]
  },
  {
   "cell_type": "code",
   "execution_count": null,
   "id": "6644bdf1",
   "metadata": {},
   "outputs": [],
   "source": [
    "# Join the dataframes\n",
    "data_df = pd.merge(happy15_df, coords_df, on='Country', how='inner')\n",
    "data_df.head()"
   ]
  },
  {
   "cell_type": "code",
   "execution_count": null,
   "id": "86e6a7ab",
   "metadata": {},
   "outputs": [],
   "source": [
    "def load_data(url, filename, file_type):\n",
    "    r = requests.get(url)\n",
    "    with open(filename, 'w') as f:\n",
    "        f.write(r.content.decode(\"utf-8\"))\n",
    "    with open(filename, 'r') as f:\n",
    "        return file_type(f)"
   ]
  },
  {
   "cell_type": "code",
   "execution_count": null,
   "id": "41f68823",
   "metadata": {},
   "outputs": [],
   "source": [
    "data = load_data(\n",
    "    'https://raw.githubusercontent.com/brown016340/Project---3/benjamin/data/2015.geo.json',\n",
    "    '2015.geo.json',\n",
    "     json.load)"
   ]
  },
  {
   "cell_type": "code",
   "execution_count": null,
   "id": "55c87471",
   "metadata": {},
   "outputs": [],
   "source": [
    "# Load the choropleth map\n",
    "layer = ipyleaflet.Choropleth(\n",
    "    geo_data= data,\n",
    "    choro_data=dict(zip(data_df['Country'].str[:2].str.upper().tolist(), data_df['Happiness Score'].tolist())),\n",
    "    colormap=linear.YlOrRd_04,\n",
    "    border_color='white',\n",
    "    style={'fillOpacity': 0.8, 'dashArray': '5, 5'},\n",
    "    name= '2015'\n",
    ")\n",
    "m2 = ipyleaflet.Map(center = (0,0), zoom = 1)\n",
    "m2.add(layer)"
   ]
  },
  {
   "cell_type": "code",
   "execution_count": null,
   "id": "c5586f5a",
   "metadata": {},
   "outputs": [],
   "source": [
    "control = LayersControl(position='topright')\n",
    "m.add(control)"
   ]
  },
  {
   "cell_type": "code",
   "execution_count": null,
   "id": "aeae7edc",
   "metadata": {},
   "outputs": [],
   "source": [
    "m.add(FullScreenControl())"
   ]
  },
  {
   "cell_type": "code",
   "execution_count": null,
   "id": "fe54a980",
   "metadata": {},
   "outputs": [],
   "source": [
    "# m.save('C:/Users/Brown/Documents/my_map.html', title='My Map')"
   ]
  },
  {
   "cell_type": "code",
   "execution_count": null,
   "id": "c712e23c",
   "metadata": {},
   "outputs": [],
   "source": [
    "# m.clear()"
   ]
  },
  {
   "cell_type": "code",
   "execution_count": null,
   "id": "145c3f33",
   "metadata": {},
   "outputs": [],
   "source": [
    "# Search in a GeoJSON \n",
    "\n",
    "countries = GeoJSON(data=data)\n",
    "\n",
    "# m = Map(center=[61.9389, 69.7851], zoom=2)\n",
    "\n",
    "search = SearchControl(\n",
    "    position=\"topleft\",\n",
    "    layer=LayerGroup(layers=(countries,)),\n",
    "    property_name=\"Country\",\n",
    ")\n",
    "m.add(search)\n",
    "m"
   ]
  },
  {
   "cell_type": "code",
   "execution_count": null,
   "id": "3ff73d1c",
   "metadata": {},
   "outputs": [],
   "source": [
    "def add_popup(feature, **kwargs):\n",
    "    for layer in m.layers:\n",
    "        if isinstance(layer, Popup):\n",
    "            m.remove_layer(layer)\n",
    "    p = shape(feature[\"geometry\"])\n",
    "    center = p.centroid.y, p.centroid.x\n",
    "    properties = feature[\"properties\"]\n",
    "    message = HTML()\n",
    "    message.value = f\"\"\"<h4>{properties[\"Country\"]}</h4>\n",
    "                        <b>Happiness Score: {properties[\"Happiness Score\"]}\n",
    "                     \"\"\"\n",
    "    popup = Popup(\n",
    "        location=center,\n",
    "        child=message,\n",
    "        close_button=True,\n",
    "        auto_close=False,\n",
    "        close_on_escape_key=False,\n",
    "    )\n",
    "\n",
    "    m.add(popup)\n",
    "\n",
    "\n",
    "search.on_feature_found(add_popup)"
   ]
  },
  {
   "cell_type": "code",
   "execution_count": null,
   "id": "c082547b",
   "metadata": {},
   "outputs": [],
   "source": [
    "# TESTING\n",
    "w = widgets.Dropdown(\n",
    "    options=['m', 'm2'],\n",
    "    value = m,\n",
    "    description='List',\n",
    ")\n",
    "display(w)\n",
    "\n",
    "# def on_change(change):\n",
    "#     if change['name'] == 'value' and (change['new'] != change['old']):\n",
    "#         clear_output()\n",
    "#         m\n",
    "\n",
    "# w.observe(on_change)"
   ]
  }
 ],
 "metadata": {
  "kernelspec": {
   "display_name": "Python 3 (ipykernel)",
   "language": "python",
   "name": "python3"
  },
  "language_info": {
   "codemirror_mode": {
    "name": "ipython",
    "version": 3
   },
   "file_extension": ".py",
   "mimetype": "text/x-python",
   "name": "python",
   "nbconvert_exporter": "python",
   "pygments_lexer": "ipython3",
   "version": "3.11.5"
  }
 },
 "nbformat": 4,
 "nbformat_minor": 5
}
