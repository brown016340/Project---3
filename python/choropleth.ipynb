{
 "cells": [
  {
   "cell_type": "code",
   "execution_count": 2,
   "id": "62a59bb2",
   "metadata": {},
   "outputs": [],
   "source": [
    "# Dependencies and Setup\n",
    "import pandas as pd\n",
    "import requests\n",
    "# import numpy as np\n",
    "import io\n",
    "import ipyleaflet\n",
    "import json\n",
    "# from pathlib import Path\n",
    "# from pprint import pprint\n",
    "from ipyleaflet import Map, Marker, LayersControl, SearchControl, FullScreenControl, WidgetControl, GeoJSON, LayerGroup, Popup\n",
    "# from geopy.exc import GeocoderTimedOut \n",
    "# from geopy.geocoders import Nominatim \n",
    "# from ipywidgets import link, FloatSlider\n",
    "from branca.colormap import linear\n",
    "from pandas_geojson import to_geojson\n",
    "from ipywidgets import HTML, widgets, interactive\n",
    "from shapely.geometry import shape"
   ]
  },
  {
   "cell_type": "code",
   "execution_count": 3,
   "id": "e4271f37",
   "metadata": {},
   "outputs": [
    {
     "data": {
      "text/html": [
       "<div>\n",
       "<style scoped>\n",
       "    .dataframe tbody tr th:only-of-type {\n",
       "        vertical-align: middle;\n",
       "    }\n",
       "\n",
       "    .dataframe tbody tr th {\n",
       "        vertical-align: top;\n",
       "    }\n",
       "\n",
       "    .dataframe thead th {\n",
       "        text-align: right;\n",
       "    }\n",
       "</style>\n",
       "<table border=\"1\" class=\"dataframe\">\n",
       "  <thead>\n",
       "    <tr style=\"text-align: right;\">\n",
       "      <th></th>\n",
       "      <th>Country</th>\n",
       "      <th>Latitude</th>\n",
       "      <th>Longitude</th>\n",
       "    </tr>\n",
       "  </thead>\n",
       "  <tbody>\n",
       "    <tr>\n",
       "      <th>0</th>\n",
       "      <td>Switzerland</td>\n",
       "      <td>46.798562</td>\n",
       "      <td>8.231974</td>\n",
       "    </tr>\n",
       "    <tr>\n",
       "      <th>1</th>\n",
       "      <td>Iceland</td>\n",
       "      <td>64.984182</td>\n",
       "      <td>-18.105901</td>\n",
       "    </tr>\n",
       "    <tr>\n",
       "      <th>2</th>\n",
       "      <td>Denmark</td>\n",
       "      <td>55.670249</td>\n",
       "      <td>10.333328</td>\n",
       "    </tr>\n",
       "    <tr>\n",
       "      <th>3</th>\n",
       "      <td>Norway</td>\n",
       "      <td>61.152939</td>\n",
       "      <td>8.787665</td>\n",
       "    </tr>\n",
       "    <tr>\n",
       "      <th>4</th>\n",
       "      <td>Canada</td>\n",
       "      <td>61.066692</td>\n",
       "      <td>-107.991707</td>\n",
       "    </tr>\n",
       "  </tbody>\n",
       "</table>\n",
       "</div>"
      ],
      "text/plain": [
       "       Country   Latitude   Longitude\n",
       "0  Switzerland  46.798562    8.231974\n",
       "1      Iceland  64.984182  -18.105901\n",
       "2      Denmark  55.670249   10.333328\n",
       "3       Norway  61.152939    8.787665\n",
       "4       Canada  61.066692 -107.991707"
      ]
     },
     "execution_count": 3,
     "metadata": {},
     "output_type": "execute_result"
    }
   ],
   "source": [
    "# Downloading the csv file from the GitHub repository\n",
    "url = \"https://raw.githubusercontent.com/brown016340/Project---3/benjamin/data/coords.csv\"\n",
    "download = requests.get(url).content\n",
    "\n",
    "# Reading the downloaded content and turning it into a pandas dataframe\n",
    "coords_df = pd.read_csv(io.StringIO(download.decode('utf-8')))\n",
    "\n",
    "# Printing out the first 5 rows of the dataframe\n",
    "coords_df.head()"
   ]
  },
  {
   "cell_type": "code",
   "execution_count": 4,
   "id": "7f438131",
   "metadata": {},
   "outputs": [
    {
     "data": {
      "text/html": [
       "<div>\n",
       "<style scoped>\n",
       "    .dataframe tbody tr th:only-of-type {\n",
       "        vertical-align: middle;\n",
       "    }\n",
       "\n",
       "    .dataframe tbody tr th {\n",
       "        vertical-align: top;\n",
       "    }\n",
       "\n",
       "    .dataframe thead th {\n",
       "        text-align: right;\n",
       "    }\n",
       "</style>\n",
       "<table border=\"1\" class=\"dataframe\">\n",
       "  <thead>\n",
       "    <tr style=\"text-align: right;\">\n",
       "      <th></th>\n",
       "      <th>Country</th>\n",
       "      <th>Region</th>\n",
       "      <th>Happiness Rank</th>\n",
       "      <th>Happiness Score</th>\n",
       "      <th>Standard Error</th>\n",
       "      <th>Economy (GDP per Capita)</th>\n",
       "      <th>Family</th>\n",
       "      <th>Health (Life Expectancy)</th>\n",
       "      <th>Freedom</th>\n",
       "      <th>Trust (Government Corruption)</th>\n",
       "      <th>Generosity</th>\n",
       "      <th>Dystopia Residual</th>\n",
       "    </tr>\n",
       "  </thead>\n",
       "  <tbody>\n",
       "    <tr>\n",
       "      <th>0</th>\n",
       "      <td>Switzerland</td>\n",
       "      <td>Western Europe</td>\n",
       "      <td>1</td>\n",
       "      <td>7.587</td>\n",
       "      <td>0.03411</td>\n",
       "      <td>1.39651</td>\n",
       "      <td>1.34951</td>\n",
       "      <td>0.94143</td>\n",
       "      <td>0.66557</td>\n",
       "      <td>0.41978</td>\n",
       "      <td>0.29678</td>\n",
       "      <td>2.51738</td>\n",
       "    </tr>\n",
       "    <tr>\n",
       "      <th>1</th>\n",
       "      <td>Iceland</td>\n",
       "      <td>Western Europe</td>\n",
       "      <td>2</td>\n",
       "      <td>7.561</td>\n",
       "      <td>0.04884</td>\n",
       "      <td>1.30232</td>\n",
       "      <td>1.40223</td>\n",
       "      <td>0.94784</td>\n",
       "      <td>0.62877</td>\n",
       "      <td>0.14145</td>\n",
       "      <td>0.43630</td>\n",
       "      <td>2.70201</td>\n",
       "    </tr>\n",
       "    <tr>\n",
       "      <th>2</th>\n",
       "      <td>Denmark</td>\n",
       "      <td>Western Europe</td>\n",
       "      <td>3</td>\n",
       "      <td>7.527</td>\n",
       "      <td>0.03328</td>\n",
       "      <td>1.32548</td>\n",
       "      <td>1.36058</td>\n",
       "      <td>0.87464</td>\n",
       "      <td>0.64938</td>\n",
       "      <td>0.48357</td>\n",
       "      <td>0.34139</td>\n",
       "      <td>2.49204</td>\n",
       "    </tr>\n",
       "    <tr>\n",
       "      <th>3</th>\n",
       "      <td>Norway</td>\n",
       "      <td>Western Europe</td>\n",
       "      <td>4</td>\n",
       "      <td>7.522</td>\n",
       "      <td>0.03880</td>\n",
       "      <td>1.45900</td>\n",
       "      <td>1.33095</td>\n",
       "      <td>0.88521</td>\n",
       "      <td>0.66973</td>\n",
       "      <td>0.36503</td>\n",
       "      <td>0.34699</td>\n",
       "      <td>2.46531</td>\n",
       "    </tr>\n",
       "    <tr>\n",
       "      <th>4</th>\n",
       "      <td>Canada</td>\n",
       "      <td>North America</td>\n",
       "      <td>5</td>\n",
       "      <td>7.427</td>\n",
       "      <td>0.03553</td>\n",
       "      <td>1.32629</td>\n",
       "      <td>1.32261</td>\n",
       "      <td>0.90563</td>\n",
       "      <td>0.63297</td>\n",
       "      <td>0.32957</td>\n",
       "      <td>0.45811</td>\n",
       "      <td>2.45176</td>\n",
       "    </tr>\n",
       "  </tbody>\n",
       "</table>\n",
       "</div>"
      ],
      "text/plain": [
       "       Country          Region  Happiness Rank  Happiness Score  \\\n",
       "0  Switzerland  Western Europe               1            7.587   \n",
       "1      Iceland  Western Europe               2            7.561   \n",
       "2      Denmark  Western Europe               3            7.527   \n",
       "3       Norway  Western Europe               4            7.522   \n",
       "4       Canada   North America               5            7.427   \n",
       "\n",
       "   Standard Error  Economy (GDP per Capita)   Family  \\\n",
       "0         0.03411                   1.39651  1.34951   \n",
       "1         0.04884                   1.30232  1.40223   \n",
       "2         0.03328                   1.32548  1.36058   \n",
       "3         0.03880                   1.45900  1.33095   \n",
       "4         0.03553                   1.32629  1.32261   \n",
       "\n",
       "   Health (Life Expectancy)  Freedom  Trust (Government Corruption)  \\\n",
       "0                   0.94143  0.66557                        0.41978   \n",
       "1                   0.94784  0.62877                        0.14145   \n",
       "2                   0.87464  0.64938                        0.48357   \n",
       "3                   0.88521  0.66973                        0.36503   \n",
       "4                   0.90563  0.63297                        0.32957   \n",
       "\n",
       "   Generosity  Dystopia Residual  \n",
       "0     0.29678            2.51738  \n",
       "1     0.43630            2.70201  \n",
       "2     0.34139            2.49204  \n",
       "3     0.34699            2.46531  \n",
       "4     0.45811            2.45176  "
      ]
     },
     "execution_count": 4,
     "metadata": {},
     "output_type": "execute_result"
    }
   ],
   "source": [
    "# Downloading the csv file from the GitHub repository\n",
    "url = \"https://raw.githubusercontent.com/brown016340/Project---3/benjamin/data/2015.csv\"\n",
    "download = requests.get(url).content\n",
    "\n",
    "# Reading the downloaded content and turning it into a pandas dataframe\n",
    "data_df = pd.read_csv(io.StringIO(download.decode('utf-8')))\n",
    "\n",
    "# Printing out the first 5 rows of the dataframe\n",
    "data_df.head()"
   ]
  },
  {
   "cell_type": "code",
   "execution_count": 5,
   "id": "86e6a7ab",
   "metadata": {},
   "outputs": [],
   "source": [
    "def load_data(url, filename, file_type):\n",
    "    r = requests.get(url)\n",
    "    with open(filename, 'w') as f:\n",
    "        f.write(r.content.decode(\"utf-8\"))\n",
    "    with open(filename, 'r') as f:\n",
    "        return file_type(f)"
   ]
  },
  {
   "cell_type": "code",
   "execution_count": 6,
   "id": "41f68823",
   "metadata": {},
   "outputs": [],
   "source": [
    "data = load_data(\n",
    "    'https://raw.githubusercontent.com/brown016340/Project---3/benjamin/data/2015.geo.json',\n",
    "    '2015.geo.json',\n",
    "     json.load)"
   ]
  },
  {
   "cell_type": "code",
   "execution_count": 7,
   "id": "55c87471",
   "metadata": {},
   "outputs": [
    {
     "data": {
      "application/vnd.jupyter.widget-view+json": {
       "model_id": "533c7d9e9f8e4ef993ab3812ff79a333",
       "version_major": 2,
       "version_minor": 0
      },
      "text/plain": [
       "Map(center=[0, 1.5], controls=(ZoomControl(options=['position', 'zoom_in_text', 'zoom_in_title', 'zoom_out_tex…"
      ]
     },
     "execution_count": 7,
     "metadata": {},
     "output_type": "execute_result"
    }
   ],
   "source": [
    "# Load the choropleth map\n",
    "layer = ipyleaflet.Choropleth(\n",
    "    geo_data= data,\n",
    "    choro_data=dict(zip(data_df['Country'].str[:2].str.upper().tolist(), data_df['Happiness Score'].tolist())),\n",
    "    colormap=linear.YlOrRd_04,\n",
    "    border_color='white',\n",
    "    style={'fillOpacity': 0.8, 'dashArray': '5, 5'},\n",
    "    name= '2015'\n",
    ")\n",
    "m = ipyleaflet.Map(center = (0,1.5), zoom = 1)\n",
    "m.add(layer)"
   ]
  },
  {
   "cell_type": "code",
   "execution_count": 8,
   "id": "c5586f5a",
   "metadata": {},
   "outputs": [
    {
     "data": {
      "application/vnd.jupyter.widget-view+json": {
       "model_id": "533c7d9e9f8e4ef993ab3812ff79a333",
       "version_major": 2,
       "version_minor": 0
      },
      "text/plain": [
       "Map(bottom=456.0, center=[0, 1.5], controls=(ZoomControl(options=['position', 'zoom_in_text', 'zoom_in_title',…"
      ]
     },
     "execution_count": 8,
     "metadata": {},
     "output_type": "execute_result"
    }
   ],
   "source": [
    "control = LayersControl(position='topright')\n",
    "m.add(control)"
   ]
  },
  {
   "cell_type": "code",
   "execution_count": 8,
   "id": "aeae7edc",
   "metadata": {},
   "outputs": [],
   "source": [
    "# m.add(FullScreenControl())"
   ]
  },
  {
   "cell_type": "code",
   "execution_count": 9,
   "id": "fe54a980",
   "metadata": {},
   "outputs": [],
   "source": [
    "# m.save('C:/Users/Brown/Documents/my_map.html', title='My Map')"
   ]
  },
  {
   "cell_type": "code",
   "execution_count": 10,
   "id": "c712e23c",
   "metadata": {},
   "outputs": [],
   "source": [
    "# m.clear()"
   ]
  },
  {
   "cell_type": "code",
   "execution_count": 9,
   "id": "145c3f33",
   "metadata": {},
   "outputs": [
    {
     "data": {
      "application/vnd.jupyter.widget-view+json": {
       "model_id": "533c7d9e9f8e4ef993ab3812ff79a333",
       "version_major": 2,
       "version_minor": 0
      },
      "text/plain": [
       "Map(bottom=456.0, center=[0, 1.5], controls=(ZoomControl(options=['position', 'zoom_in_text', 'zoom_in_title',…"
      ]
     },
     "execution_count": 9,
     "metadata": {},
     "output_type": "execute_result"
    }
   ],
   "source": [
    "# Search in a GeoJSON \n",
    "\n",
    "countries = GeoJSON(data=data, style={'opacity': 0, 'fillOpacity': 0})\n",
    "\n",
    "search = SearchControl(\n",
    "    position=\"topleft\",\n",
    "    layer=LayerGroup(layers=(countries,)),\n",
    "    property_name=\"Country\",\n",
    "    zoom= 4\n",
    ")\n",
    "m.add(search)\n",
    "m"
   ]
  },
  {
   "cell_type": "code",
   "execution_count": 11,
   "id": "3ff73d1c",
   "metadata": {},
   "outputs": [],
   "source": [
    "def add_popup(feature, **kwargs):\n",
    "    for layer in m.layers:\n",
    "        if isinstance(layer, Popup):\n",
    "            m.remove_layer(layer)\n",
    "    p = shape(feature[\"geometry\"])\n",
    "    center = p.centroid.y, p.centroid.x\n",
    "    properties = feature[\"properties\"]\n",
    "    message = HTML()\n",
    "    message.value = f\"\"\"<h4>{properties[\"Country\"]}</h4>\n",
    "                        <b>Happiness Score: {properties[\"Happiness Score\"]}\n",
    "                     \"\"\"\n",
    "    popup = Popup(\n",
    "        location=center,\n",
    "        child=message,\n",
    "        close_button=True,\n",
    "        auto_close=False,\n",
    "        close_on_escape_key=False,\n",
    "    )\n",
    "\n",
    "    m.add(popup)\n",
    "\n",
    "\n",
    "search.on_feature_found(add_popup)"
   ]
  },
  {
   "cell_type": "code",
   "execution_count": 13,
   "id": "c082547b",
   "metadata": {},
   "outputs": [],
   "source": [
    "# # WORKING\n",
    "# import ipywidgets as widgets\n",
    "# from ipywidgets import interactive\n",
    "# from ipyleaflet import Map, basemaps, TileLayer, basemap_to_tiles, Choropleth\n",
    "# from IPython.display import display\n",
    "\n",
    "# layer = ipyleaflet.Choropleth(\n",
    "#                 geo_data= data,\n",
    "#                 choro_data=dict(zip(data_df['Country'].str[:2].str.upper().tolist(), data_df['Happiness Score'].tolist())),\n",
    "#                 colormap=linear.YlOrRd_04,\n",
    "#                 border_color='white',\n",
    "#                 style={'fillOpacity': 0.8, 'dashArray': '5, 5'},\n",
    "#                 name= '2015'\n",
    "#             )\n",
    "\n",
    "# # Function to dynamically create and display the selected map with custom layer\n",
    "# def display_map(selected_map):\n",
    "#     map_to_display = ipyleaflet.Map(center = (0,0), zoom = 1)\n",
    "#     map_to_display.clear()\n",
    "#     if selected_map == 'CustomMap1':\n",
    "#         # Create the Choropleth layer\n",
    "#         map_to_display = ipyleaflet.Map(center = (0,0), zoom = 1)\n",
    "#         map_to_display.add(layer)\n",
    "#     elif selected_map == 'OpenTopoMap':\n",
    "#         # Create the map with the OpenTopoMap basemap\n",
    "#         map_to_display = Map(center=(0, 0), zoom=1, basemap=basemaps.OpenTopoMap)\n",
    "#     else:\n",
    "#         map_to_display = None\n",
    "\n",
    "#     display(map_to_display)\n",
    "\n",
    "# # Create an interactive widget with the display_map function and the dropdown\n",
    "# interactive_map = interactive(display_map, selected_map={'CustomMap1': 'CustomMap1', 'OpenTopoMap': 'OpenTopoMap'})\n",
    "\n",
    "# # Display the interactive widget\n",
    "# display(interactive_map)"
   ]
  },
  {
   "cell_type": "code",
   "execution_count": 13,
   "id": "0a5dea39",
   "metadata": {},
   "outputs": [
    {
     "data": {
      "application/vnd.jupyter.widget-view+json": {
       "model_id": "3cf16cad68fb4825bfc62c03ea730769",
       "version_major": 2,
       "version_minor": 0
      },
      "text/plain": [
       "interactive(children=(Dropdown(description='selected_map', options={'CustomMap1': 'CustomMap1', 'OpenTopoMap':…"
      ]
     },
     "metadata": {},
     "output_type": "display_data"
    },
    {
     "ename": "TraitError",
     "evalue": "The 'east' trait of a Map instance expected a float, not the NoneType None.",
     "output_type": "error",
     "traceback": [
      "\u001b[1;31m---------------------------------------------------------------------------\u001b[0m",
      "\u001b[1;31mTraitError\u001b[0m                                Traceback (most recent call last)",
      "File \u001b[1;32mc:\\Users\\browba\\AppData\\Local\\anaconda3\\envs\\dev\\Lib\\site-packages\\ipywidgets\\widgets\\widget.py:766\u001b[0m, in \u001b[0;36mWidget._handle_msg\u001b[1;34m(self, msg)\u001b[0m\n\u001b[0;32m    764\u001b[0m         \u001b[38;5;28;01mif\u001b[39;00m \u001b[38;5;124m'\u001b[39m\u001b[38;5;124mbuffer_paths\u001b[39m\u001b[38;5;124m'\u001b[39m \u001b[38;5;129;01min\u001b[39;00m data:\n\u001b[0;32m    765\u001b[0m             _put_buffers(state, data[\u001b[38;5;124m'\u001b[39m\u001b[38;5;124mbuffer_paths\u001b[39m\u001b[38;5;124m'\u001b[39m], msg[\u001b[38;5;124m'\u001b[39m\u001b[38;5;124mbuffers\u001b[39m\u001b[38;5;124m'\u001b[39m])\n\u001b[1;32m--> 766\u001b[0m         \u001b[38;5;28mself\u001b[39m\u001b[38;5;241m.\u001b[39mset_state(state)\n\u001b[0;32m    768\u001b[0m \u001b[38;5;66;03m# Handle a state request.\u001b[39;00m\n\u001b[0;32m    769\u001b[0m \u001b[38;5;28;01melif\u001b[39;00m method \u001b[38;5;241m==\u001b[39m \u001b[38;5;124m'\u001b[39m\u001b[38;5;124mrequest_state\u001b[39m\u001b[38;5;124m'\u001b[39m:\n",
      "File \u001b[1;32mc:\\Users\\browba\\AppData\\Local\\anaconda3\\envs\\dev\\Lib\\site-packages\\ipywidgets\\widgets\\widget.py:648\u001b[0m, in \u001b[0;36mWidget.set_state\u001b[1;34m(self, sync_data)\u001b[0m\n\u001b[0;32m    645\u001b[0m \u001b[38;5;28;01mif\u001b[39;00m name \u001b[38;5;129;01min\u001b[39;00m \u001b[38;5;28mself\u001b[39m\u001b[38;5;241m.\u001b[39mkeys:\n\u001b[0;32m    646\u001b[0m     from_json \u001b[38;5;241m=\u001b[39m \u001b[38;5;28mself\u001b[39m\u001b[38;5;241m.\u001b[39mtrait_metadata(name, \u001b[38;5;124m'\u001b[39m\u001b[38;5;124mfrom_json\u001b[39m\u001b[38;5;124m'\u001b[39m,\n\u001b[0;32m    647\u001b[0m                                     \u001b[38;5;28mself\u001b[39m\u001b[38;5;241m.\u001b[39m_trait_from_json)\n\u001b[1;32m--> 648\u001b[0m     \u001b[38;5;28mself\u001b[39m\u001b[38;5;241m.\u001b[39mset_trait(name, from_json(sync_data[name], \u001b[38;5;28mself\u001b[39m))\n",
      "File \u001b[1;32mc:\\Users\\browba\\AppData\\Local\\anaconda3\\envs\\dev\\Lib\\site-packages\\traitlets\\traitlets.py:1738\u001b[0m, in \u001b[0;36mHasTraits.set_trait\u001b[1;34m(self, name, value)\u001b[0m\n\u001b[0;32m   1736\u001b[0m     \u001b[38;5;28;01mraise\u001b[39;00m TraitError(\u001b[38;5;124mf\u001b[39m\u001b[38;5;124m\"\u001b[39m\u001b[38;5;124mClass \u001b[39m\u001b[38;5;132;01m{\u001b[39;00m\u001b[38;5;28mcls\u001b[39m\u001b[38;5;241m.\u001b[39m\u001b[38;5;18m__name__\u001b[39m\u001b[38;5;132;01m}\u001b[39;00m\u001b[38;5;124m does not have a trait named \u001b[39m\u001b[38;5;132;01m{\u001b[39;00mname\u001b[38;5;132;01m}\u001b[39;00m\u001b[38;5;124m\"\u001b[39m)\n\u001b[0;32m   1737\u001b[0m \u001b[38;5;28;01melse\u001b[39;00m:\n\u001b[1;32m-> 1738\u001b[0m     \u001b[38;5;28mgetattr\u001b[39m(\u001b[38;5;28mcls\u001b[39m, name)\u001b[38;5;241m.\u001b[39mset(\u001b[38;5;28mself\u001b[39m, value)\n",
      "File \u001b[1;32mc:\\Users\\browba\\AppData\\Local\\anaconda3\\envs\\dev\\Lib\\site-packages\\traitlets\\traitlets.py:703\u001b[0m, in \u001b[0;36mTraitType.set\u001b[1;34m(self, obj, value)\u001b[0m\n\u001b[0;32m    702\u001b[0m \u001b[38;5;28;01mdef\u001b[39;00m \u001b[38;5;21mset\u001b[39m(\u001b[38;5;28mself\u001b[39m, obj, value):\n\u001b[1;32m--> 703\u001b[0m     new_value \u001b[38;5;241m=\u001b[39m \u001b[38;5;28mself\u001b[39m\u001b[38;5;241m.\u001b[39m_validate(obj, value)\n\u001b[0;32m    704\u001b[0m     \u001b[38;5;28;01mtry\u001b[39;00m:\n\u001b[0;32m    705\u001b[0m         old_value \u001b[38;5;241m=\u001b[39m obj\u001b[38;5;241m.\u001b[39m_trait_values[\u001b[38;5;28mself\u001b[39m\u001b[38;5;241m.\u001b[39mname]\n",
      "File \u001b[1;32mc:\\Users\\browba\\AppData\\Local\\anaconda3\\envs\\dev\\Lib\\site-packages\\traitlets\\traitlets.py:735\u001b[0m, in \u001b[0;36mTraitType._validate\u001b[1;34m(self, obj, value)\u001b[0m\n\u001b[0;32m    733\u001b[0m     \u001b[38;5;28;01mreturn\u001b[39;00m value\n\u001b[0;32m    734\u001b[0m \u001b[38;5;28;01mif\u001b[39;00m \u001b[38;5;28mhasattr\u001b[39m(\u001b[38;5;28mself\u001b[39m, \u001b[38;5;124m\"\u001b[39m\u001b[38;5;124mvalidate\u001b[39m\u001b[38;5;124m\"\u001b[39m):\n\u001b[1;32m--> 735\u001b[0m     value \u001b[38;5;241m=\u001b[39m \u001b[38;5;28mself\u001b[39m\u001b[38;5;241m.\u001b[39mvalidate(obj, value)\n\u001b[0;32m    736\u001b[0m \u001b[38;5;28;01mif\u001b[39;00m obj\u001b[38;5;241m.\u001b[39m_cross_validation_lock \u001b[38;5;129;01mis\u001b[39;00m \u001b[38;5;28;01mFalse\u001b[39;00m:\n\u001b[0;32m    737\u001b[0m     value \u001b[38;5;241m=\u001b[39m \u001b[38;5;28mself\u001b[39m\u001b[38;5;241m.\u001b[39m_cross_validate(obj, value)\n",
      "File \u001b[1;32mc:\\Users\\browba\\AppData\\Local\\anaconda3\\envs\\dev\\Lib\\site-packages\\traitlets\\traitlets.py:2417\u001b[0m, in \u001b[0;36mFloat.validate\u001b[1;34m(self, obj, value)\u001b[0m\n\u001b[0;32m   2415\u001b[0m     value \u001b[38;5;241m=\u001b[39m \u001b[38;5;28mfloat\u001b[39m(value)\n\u001b[0;32m   2416\u001b[0m \u001b[38;5;28;01mif\u001b[39;00m \u001b[38;5;129;01mnot\u001b[39;00m \u001b[38;5;28misinstance\u001b[39m(value, \u001b[38;5;28mfloat\u001b[39m):\n\u001b[1;32m-> 2417\u001b[0m     \u001b[38;5;28mself\u001b[39m\u001b[38;5;241m.\u001b[39merror(obj, value)\n\u001b[0;32m   2418\u001b[0m \u001b[38;5;28;01mreturn\u001b[39;00m _validate_bounds(\u001b[38;5;28mself\u001b[39m, obj, value)\n",
      "File \u001b[1;32mc:\\Users\\browba\\AppData\\Local\\anaconda3\\envs\\dev\\Lib\\site-packages\\traitlets\\traitlets.py:841\u001b[0m, in \u001b[0;36mTraitType.error\u001b[1;34m(self, obj, value, error, info)\u001b[0m\n\u001b[0;32m    835\u001b[0m \u001b[38;5;28;01melse\u001b[39;00m:\n\u001b[0;32m    836\u001b[0m     e \u001b[38;5;241m=\u001b[39m \u001b[38;5;124m\"\u001b[39m\u001b[38;5;124mThe \u001b[39m\u001b[38;5;124m'\u001b[39m\u001b[38;5;132;01m{}\u001b[39;00m\u001b[38;5;124m'\u001b[39m\u001b[38;5;124m trait expected \u001b[39m\u001b[38;5;132;01m{}\u001b[39;00m\u001b[38;5;124m, not \u001b[39m\u001b[38;5;132;01m{}\u001b[39;00m\u001b[38;5;124m.\u001b[39m\u001b[38;5;124m\"\u001b[39m\u001b[38;5;241m.\u001b[39mformat(\n\u001b[0;32m    837\u001b[0m         \u001b[38;5;28mself\u001b[39m\u001b[38;5;241m.\u001b[39mname,\n\u001b[0;32m    838\u001b[0m         \u001b[38;5;28mself\u001b[39m\u001b[38;5;241m.\u001b[39minfo(),\n\u001b[0;32m    839\u001b[0m         describe(\u001b[38;5;124m\"\u001b[39m\u001b[38;5;124mthe\u001b[39m\u001b[38;5;124m\"\u001b[39m, value),\n\u001b[0;32m    840\u001b[0m     )\n\u001b[1;32m--> 841\u001b[0m \u001b[38;5;28;01mraise\u001b[39;00m TraitError(e)\n",
      "\u001b[1;31mTraitError\u001b[0m: The 'east' trait of a Map instance expected a float, not the NoneType None."
     ]
    },
    {
     "ename": "TraitError",
     "evalue": "The 'east' trait of a Map instance expected a float, not the NoneType None.",
     "output_type": "error",
     "traceback": [
      "\u001b[1;31m---------------------------------------------------------------------------\u001b[0m",
      "\u001b[1;31mTraitError\u001b[0m                                Traceback (most recent call last)",
      "File \u001b[1;32mc:\\Users\\browba\\AppData\\Local\\anaconda3\\envs\\dev\\Lib\\site-packages\\ipywidgets\\widgets\\widget.py:766\u001b[0m, in \u001b[0;36mWidget._handle_msg\u001b[1;34m(self, msg)\u001b[0m\n\u001b[0;32m    764\u001b[0m         \u001b[38;5;28;01mif\u001b[39;00m \u001b[38;5;124m'\u001b[39m\u001b[38;5;124mbuffer_paths\u001b[39m\u001b[38;5;124m'\u001b[39m \u001b[38;5;129;01min\u001b[39;00m data:\n\u001b[0;32m    765\u001b[0m             _put_buffers(state, data[\u001b[38;5;124m'\u001b[39m\u001b[38;5;124mbuffer_paths\u001b[39m\u001b[38;5;124m'\u001b[39m], msg[\u001b[38;5;124m'\u001b[39m\u001b[38;5;124mbuffers\u001b[39m\u001b[38;5;124m'\u001b[39m])\n\u001b[1;32m--> 766\u001b[0m         \u001b[38;5;28mself\u001b[39m\u001b[38;5;241m.\u001b[39mset_state(state)\n\u001b[0;32m    768\u001b[0m \u001b[38;5;66;03m# Handle a state request.\u001b[39;00m\n\u001b[0;32m    769\u001b[0m \u001b[38;5;28;01melif\u001b[39;00m method \u001b[38;5;241m==\u001b[39m \u001b[38;5;124m'\u001b[39m\u001b[38;5;124mrequest_state\u001b[39m\u001b[38;5;124m'\u001b[39m:\n",
      "File \u001b[1;32mc:\\Users\\browba\\AppData\\Local\\anaconda3\\envs\\dev\\Lib\\site-packages\\ipywidgets\\widgets\\widget.py:648\u001b[0m, in \u001b[0;36mWidget.set_state\u001b[1;34m(self, sync_data)\u001b[0m\n\u001b[0;32m    645\u001b[0m \u001b[38;5;28;01mif\u001b[39;00m name \u001b[38;5;129;01min\u001b[39;00m \u001b[38;5;28mself\u001b[39m\u001b[38;5;241m.\u001b[39mkeys:\n\u001b[0;32m    646\u001b[0m     from_json \u001b[38;5;241m=\u001b[39m \u001b[38;5;28mself\u001b[39m\u001b[38;5;241m.\u001b[39mtrait_metadata(name, \u001b[38;5;124m'\u001b[39m\u001b[38;5;124mfrom_json\u001b[39m\u001b[38;5;124m'\u001b[39m,\n\u001b[0;32m    647\u001b[0m                                     \u001b[38;5;28mself\u001b[39m\u001b[38;5;241m.\u001b[39m_trait_from_json)\n\u001b[1;32m--> 648\u001b[0m     \u001b[38;5;28mself\u001b[39m\u001b[38;5;241m.\u001b[39mset_trait(name, from_json(sync_data[name], \u001b[38;5;28mself\u001b[39m))\n",
      "File \u001b[1;32mc:\\Users\\browba\\AppData\\Local\\anaconda3\\envs\\dev\\Lib\\site-packages\\traitlets\\traitlets.py:1738\u001b[0m, in \u001b[0;36mHasTraits.set_trait\u001b[1;34m(self, name, value)\u001b[0m\n\u001b[0;32m   1736\u001b[0m     \u001b[38;5;28;01mraise\u001b[39;00m TraitError(\u001b[38;5;124mf\u001b[39m\u001b[38;5;124m\"\u001b[39m\u001b[38;5;124mClass \u001b[39m\u001b[38;5;132;01m{\u001b[39;00m\u001b[38;5;28mcls\u001b[39m\u001b[38;5;241m.\u001b[39m\u001b[38;5;18m__name__\u001b[39m\u001b[38;5;132;01m}\u001b[39;00m\u001b[38;5;124m does not have a trait named \u001b[39m\u001b[38;5;132;01m{\u001b[39;00mname\u001b[38;5;132;01m}\u001b[39;00m\u001b[38;5;124m\"\u001b[39m)\n\u001b[0;32m   1737\u001b[0m \u001b[38;5;28;01melse\u001b[39;00m:\n\u001b[1;32m-> 1738\u001b[0m     \u001b[38;5;28mgetattr\u001b[39m(\u001b[38;5;28mcls\u001b[39m, name)\u001b[38;5;241m.\u001b[39mset(\u001b[38;5;28mself\u001b[39m, value)\n",
      "File \u001b[1;32mc:\\Users\\browba\\AppData\\Local\\anaconda3\\envs\\dev\\Lib\\site-packages\\traitlets\\traitlets.py:703\u001b[0m, in \u001b[0;36mTraitType.set\u001b[1;34m(self, obj, value)\u001b[0m\n\u001b[0;32m    702\u001b[0m \u001b[38;5;28;01mdef\u001b[39;00m \u001b[38;5;21mset\u001b[39m(\u001b[38;5;28mself\u001b[39m, obj, value):\n\u001b[1;32m--> 703\u001b[0m     new_value \u001b[38;5;241m=\u001b[39m \u001b[38;5;28mself\u001b[39m\u001b[38;5;241m.\u001b[39m_validate(obj, value)\n\u001b[0;32m    704\u001b[0m     \u001b[38;5;28;01mtry\u001b[39;00m:\n\u001b[0;32m    705\u001b[0m         old_value \u001b[38;5;241m=\u001b[39m obj\u001b[38;5;241m.\u001b[39m_trait_values[\u001b[38;5;28mself\u001b[39m\u001b[38;5;241m.\u001b[39mname]\n",
      "File \u001b[1;32mc:\\Users\\browba\\AppData\\Local\\anaconda3\\envs\\dev\\Lib\\site-packages\\traitlets\\traitlets.py:735\u001b[0m, in \u001b[0;36mTraitType._validate\u001b[1;34m(self, obj, value)\u001b[0m\n\u001b[0;32m    733\u001b[0m     \u001b[38;5;28;01mreturn\u001b[39;00m value\n\u001b[0;32m    734\u001b[0m \u001b[38;5;28;01mif\u001b[39;00m \u001b[38;5;28mhasattr\u001b[39m(\u001b[38;5;28mself\u001b[39m, \u001b[38;5;124m\"\u001b[39m\u001b[38;5;124mvalidate\u001b[39m\u001b[38;5;124m\"\u001b[39m):\n\u001b[1;32m--> 735\u001b[0m     value \u001b[38;5;241m=\u001b[39m \u001b[38;5;28mself\u001b[39m\u001b[38;5;241m.\u001b[39mvalidate(obj, value)\n\u001b[0;32m    736\u001b[0m \u001b[38;5;28;01mif\u001b[39;00m obj\u001b[38;5;241m.\u001b[39m_cross_validation_lock \u001b[38;5;129;01mis\u001b[39;00m \u001b[38;5;28;01mFalse\u001b[39;00m:\n\u001b[0;32m    737\u001b[0m     value \u001b[38;5;241m=\u001b[39m \u001b[38;5;28mself\u001b[39m\u001b[38;5;241m.\u001b[39m_cross_validate(obj, value)\n",
      "File \u001b[1;32mc:\\Users\\browba\\AppData\\Local\\anaconda3\\envs\\dev\\Lib\\site-packages\\traitlets\\traitlets.py:2417\u001b[0m, in \u001b[0;36mFloat.validate\u001b[1;34m(self, obj, value)\u001b[0m\n\u001b[0;32m   2415\u001b[0m     value \u001b[38;5;241m=\u001b[39m \u001b[38;5;28mfloat\u001b[39m(value)\n\u001b[0;32m   2416\u001b[0m \u001b[38;5;28;01mif\u001b[39;00m \u001b[38;5;129;01mnot\u001b[39;00m \u001b[38;5;28misinstance\u001b[39m(value, \u001b[38;5;28mfloat\u001b[39m):\n\u001b[1;32m-> 2417\u001b[0m     \u001b[38;5;28mself\u001b[39m\u001b[38;5;241m.\u001b[39merror(obj, value)\n\u001b[0;32m   2418\u001b[0m \u001b[38;5;28;01mreturn\u001b[39;00m _validate_bounds(\u001b[38;5;28mself\u001b[39m, obj, value)\n",
      "File \u001b[1;32mc:\\Users\\browba\\AppData\\Local\\anaconda3\\envs\\dev\\Lib\\site-packages\\traitlets\\traitlets.py:841\u001b[0m, in \u001b[0;36mTraitType.error\u001b[1;34m(self, obj, value, error, info)\u001b[0m\n\u001b[0;32m    835\u001b[0m \u001b[38;5;28;01melse\u001b[39;00m:\n\u001b[0;32m    836\u001b[0m     e \u001b[38;5;241m=\u001b[39m \u001b[38;5;124m\"\u001b[39m\u001b[38;5;124mThe \u001b[39m\u001b[38;5;124m'\u001b[39m\u001b[38;5;132;01m{}\u001b[39;00m\u001b[38;5;124m'\u001b[39m\u001b[38;5;124m trait expected \u001b[39m\u001b[38;5;132;01m{}\u001b[39;00m\u001b[38;5;124m, not \u001b[39m\u001b[38;5;132;01m{}\u001b[39;00m\u001b[38;5;124m.\u001b[39m\u001b[38;5;124m\"\u001b[39m\u001b[38;5;241m.\u001b[39mformat(\n\u001b[0;32m    837\u001b[0m         \u001b[38;5;28mself\u001b[39m\u001b[38;5;241m.\u001b[39mname,\n\u001b[0;32m    838\u001b[0m         \u001b[38;5;28mself\u001b[39m\u001b[38;5;241m.\u001b[39minfo(),\n\u001b[0;32m    839\u001b[0m         describe(\u001b[38;5;124m\"\u001b[39m\u001b[38;5;124mthe\u001b[39m\u001b[38;5;124m\"\u001b[39m, value),\n\u001b[0;32m    840\u001b[0m     )\n\u001b[1;32m--> 841\u001b[0m \u001b[38;5;28;01mraise\u001b[39;00m TraitError(e)\n",
      "\u001b[1;31mTraitError\u001b[0m: The 'east' trait of a Map instance expected a float, not the NoneType None."
     ]
    }
   ],
   "source": [
    "# Call a map that's been created elsewhere WORKING\n",
    "import ipywidgets as widgets\n",
    "from ipywidgets import interactive\n",
    "from ipyleaflet import Map, basemaps, TileLayer, basemap_to_tiles, Choropleth\n",
    "from IPython.display import display\n",
    "\n",
    "# Function to dynamically create and display the selected map with custom layer\n",
    "def display_map(selected_map):\n",
    "    map_to_display = ipyleaflet.Map(center=(0,1), zoom = 1,)\n",
    "    map_to_display.clear()\n",
    "    if selected_map == 'CustomMap1':\n",
    "        # 2015 choropleth\n",
    "        try:\n",
    "            map_to_display = m\n",
    "        except:\n",
    "            print()\n",
    "        \n",
    "    elif selected_map == 'OpenTopoMap':\n",
    "        # Create the map with the OpenTopoMap basemap\n",
    "        try:\n",
    "            map_to_display = Map(center=(0,1), zoom=1, basemap=basemaps.OpenTopoMap,)\n",
    "        except:\n",
    "            print()\n",
    "    else:\n",
    "        map_to_display = None\n",
    "    try:\n",
    "        display(map_to_display)\n",
    "    except: \n",
    "        print()\n",
    "\n",
    "# Create an interactive widget with the display_map function and the dropdown\n",
    "interactive_map = interactive(display_map, selected_map={'CustomMap1': 'CustomMap1', 'OpenTopoMap': 'OpenTopoMap'})\n",
    "\n",
    "# Display the interactive widget\n",
    "display(interactive_map)"
   ]
  }
 ],
 "metadata": {
  "kernelspec": {
   "display_name": "Python 3 (ipykernel)",
   "language": "python",
   "name": "python3"
  },
  "language_info": {
   "codemirror_mode": {
    "name": "ipython",
    "version": 3
   },
   "file_extension": ".py",
   "mimetype": "text/x-python",
   "name": "python",
   "nbconvert_exporter": "python",
   "pygments_lexer": "ipython3",
   "version": "3.11.5"
  }
 },
 "nbformat": 4,
 "nbformat_minor": 5
}
