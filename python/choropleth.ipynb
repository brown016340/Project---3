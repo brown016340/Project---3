{
 "cells": [
  {
   "cell_type": "code",
   "execution_count": null,
   "id": "62a59bb2",
   "metadata": {},
   "outputs": [],
   "source": [
    "# Dependencies and Setup\n",
    "import pandas as pd\n",
    "import requests\n",
    "# import numpy as np\n",
    "import io\n",
    "import ipyleaflet\n",
    "import json\n",
    "from pathlib import Path\n",
    "from pprint import pprint\n",
    "from ipyleaflet import Map, Marker\n",
    "from geopy.exc import GeocoderTimedOut \n",
    "from geopy.geocoders import Nominatim \n",
    "from ipywidgets import link, FloatSlider\n",
    "from branca.colormap import linear\n",
    "from pandas_geojson import to_geojson"
   ]
  },
  {
   "cell_type": "code",
   "execution_count": null,
   "id": "cbad1c6f",
   "metadata": {},
   "outputs": [],
   "source": [
    "# Downloading the csv file from your GitHub account\n",
    "# Make sure the url is the raw version of the file on GitHub\n",
    "url = \"https://raw.githubusercontent.com/brown016340/Project---3/benjamin/data/coords.csv\"\n",
    "download = requests.get(url).content\n",
    "\n",
    "# Reading the downloaded content and turning it into a pandas dataframe\n",
    "coords_df = pd.read_csv(io.StringIO(download.decode('utf-8')))\n",
    "\n",
    "# Printing out the first 5 rows of the dataframe\n",
    "coords_df.head()"
   ]
  },
  {
   "cell_type": "code",
   "execution_count": null,
   "id": "1fe71c61",
   "metadata": {},
   "outputs": [],
   "source": [
    "# Downloading the csv file from your GitHub account\n",
    "# Make sure the url is the raw version of the file on GitHub\n",
    "url = \"https://raw.githubusercontent.com/brown016340/Project---3/benjamin/data/2015.csv\"\n",
    "download = requests.get(url).content\n",
    "\n",
    "# Reading the downloaded content and turning it into a pandas dataframe\n",
    "happy15_df = pd.read_csv(io.StringIO(download.decode('utf-8')))\n",
    "\n",
    "# Printing out the first 5 rows of the dataframe\n",
    "happy15_df.head()"
   ]
  },
  {
   "cell_type": "code",
   "execution_count": null,
   "id": "c46c968f",
   "metadata": {},
   "outputs": [],
   "source": [
    "# Join the dataframes\n",
    "data_df = pd.merge(happy15_df, coords_df, on='Country', how='inner')\n",
    "data_df.head()"
   ]
  },
  {
   "cell_type": "code",
   "execution_count": null,
   "id": "15044356",
   "metadata": {},
   "outputs": [],
   "source": [
    "# Convert to geo json\n",
    "geo_json = to_geojson(df=data_df, lat='Latitude', lon='Longitude',\n",
    "                    #   id= 'Country', \n",
    "                      properties=['Country','Happiness Rank','Happiness Score'])\n",
    "pprint(geo_json)"
   ]
  },
  {
   "cell_type": "code",
   "execution_count": null,
   "metadata": {},
   "outputs": [],
   "source": [
    "# Function to add 'id' field to each feature\n",
    "def add_id_to_features(json_data):\n",
    "    for feature in json_data['features']:\n",
    "        # Assuming 'Country' is unique for each feature\n",
    "        country_name = feature['properties'].get('Country', 'Unknown')\n",
    "        # Create a simple identifier based on the first three characters of the country name\n",
    "        feature['id'] = country_name[:2].upper()\n",
    "\n",
    "# Call the function to add 'id' field\n",
    "add_id_to_features(geo_json)\n",
    "\n",
    "# Print the modified JSON\n",
    "pprint(geo_json)"
   ]
  },
  {
   "cell_type": "code",
   "execution_count": null,
   "id": "1e815a14",
   "metadata": {},
   "outputs": [],
   "source": [
    "happy_score = dict(zip(data_df['Country'].str[:2].str.upper().tolist(), data_df['Happiness Score'].tolist()))"
   ]
  },
  {
   "cell_type": "code",
   "execution_count": null,
   "metadata": {},
   "outputs": [],
   "source": [
    "print(dict(zip(data_df['Country'].str[:2].str.upper().tolist(), data_df['Happiness Score'].tolist())))"
   ]
  },
  {
   "cell_type": "code",
   "execution_count": null,
   "metadata": {},
   "outputs": [],
   "source": [
    "def load_data(url, filename, file_type):\n",
    "    r = requests.get(url)\n",
    "    with open(filename, 'w') as f:\n",
    "        f.write(r.content.decode(\"utf-8\"))\n",
    "    with open(filename, 'r') as f:\n",
    "        return file_type(f)\n",
    "\n",
    "geo_json_data = load_data(\n",
    "    'https://raw.githubusercontent.com/brown016340/Project---3/benjamin/data/countries.geojson',\n",
    "    'countries.json',\n",
    "     json.load)"
   ]
  },
  {
   "cell_type": "code",
   "execution_count": null,
   "metadata": {},
   "outputs": [],
   "source": [
    "pprint(geo_json_data)"
   ]
  },
  {
   "cell_type": "code",
   "execution_count": null,
   "id": "994e3b58",
   "metadata": {},
   "outputs": [],
   "source": [
    "happy_score = dict(zip(data_df['Country'].tolist(), data_df['Happiness Score'].tolist()))\n",
    "\n",
    "layer = ipyleaflet.Choropleth(\n",
    "    geo_data= geo_json,\n",
    "    choro_data=dict(zip(data_df['Country'].str[:2].str.upper().tolist(), data_df['Happiness Score'].tolist())),\n",
    "    colormap=linear.YlOrRd_04,\n",
    "    border_color='black',\n",
    "    style={'fillOpacity': 0.8, 'dashArray': '5, 5'})\n",
    "\n",
    "m = ipyleaflet.Map(center = (0,0), zoom = 1)\n",
    "m.add(layer)\n",
    "m"
   ]
  },
  {
   "cell_type": "code",
   "execution_count": null,
   "metadata": {},
   "outputs": [],
   "source": [
    "admin_country_mapping = {feature['properties']['ADMIN']: feature for feature in geo_json_data['features']}\n",
    "\n",
    "# Update the geometry in geo_json based on the mapping\n",
    "for feature in geo_json['features']:\n",
    "    country_name = feature['properties']['Country']\n",
    "    if country_name in admin_country_mapping:\n",
    "        new_geometry = admin_country_mapping[country_name]['geometry']\n",
    "        feature['geometry'] = new_geometry"
   ]
  },
  {
   "cell_type": "code",
   "execution_count": null,
   "metadata": {},
   "outputs": [],
   "source": [
    "pprint(geo_json)"
   ]
  },
  {
   "cell_type": "code",
   "execution_count": null,
   "metadata": {},
   "outputs": [],
   "source": [
    "layer = ipyleaflet.Choropleth(\n",
    "    geo_data= geo_json,\n",
    "    choro_data=dict(zip(data_df['Country'].str[:2].str.upper().tolist(), data_df['Happiness Score'].tolist())),\n",
    "    colormap=linear.YlOrRd_04,\n",
    "    border_color='black',\n",
    "    style={'fillOpacity': 0.8, 'dashArray': '5, 5'})\n",
    "\n",
    "m = ipyleaflet.Map(center = (0,0), zoom = 1)\n",
    "m.add(layer)"
   ]
  }
 ],
 "metadata": {
  "kernelspec": {
   "display_name": "Python 3 (ipykernel)",
   "language": "python",
   "name": "python3"
  },
  "language_info": {
   "codemirror_mode": {
    "name": "ipython",
    "version": 3
   },
   "file_extension": ".py",
   "mimetype": "text/x-python",
   "name": "python",
   "nbconvert_exporter": "python",
   "pygments_lexer": "ipython3",
   "version": "3.11.5"
  }
 },
 "nbformat": 4,
 "nbformat_minor": 5
}
