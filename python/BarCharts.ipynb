{
 "cells": [
  {
   "cell_type": "code",
   "execution_count": 1,
   "id": "62a59bb2",
   "metadata": {},
   "outputs": [],
   "source": [
    "# Dependencies and Setup\n",
    "import pandas as pd\n",
    "import requests\n",
    "import numpy as np\n",
    "import io\n",
    "import ipyleaflet\n",
    "import json\n",
    "from pathlib import Path\n",
    "from pprint import pprint\n",
    "from ipyleaflet import Map, Marker, LayersControl, SearchControl, FullScreenControl, WidgetControl, GeoJSON, LayerGroup\n",
    "from geopy.exc import GeocoderTimedOut \n",
    "from geopy.geocoders import Nominatim \n",
    "from ipywidgets import link, FloatSlider\n",
    "from branca.colormap import linear\n",
    "from pandas_geojson import to_geojson\n",
    "from ipywidgets import HTML"
   ]
  },
  {
   "cell_type": "code",
   "execution_count": 2,
   "id": "bd6b05ce",
   "metadata": {},
   "outputs": [],
   "source": [
    "year = 2015\n",
    "\n",
    "# Downloading the csv file from the GitHub repository\n",
    "url = \"https://raw.githubusercontent.com/brown016340/Project---3/benjamin/data/coords.csv\"\n",
    "download = requests.get(url).content\n",
    "\n",
    "# Reading the downloaded content and turning it into a pandas dataframe\n",
    "coords_df = pd.read_csv(io.StringIO(download.decode('utf-8')))\n",
    "\n",
    "# Printing out the first 5 rows of the dataframe\n",
    "coords_df.head()\n",
    "# Downloading the csv file from the GitHub repository\n",
    "url = f\"https://raw.githubusercontent.com/brown016340/Project---3/benjamin/data/{year}.csv\"\n",
    "download = requests.get(url).content\n",
    "\n",
    "# Reading the downloaded content and turning it into a pandas dataframe\n",
    "data2015_df = pd.read_csv(io.StringIO(download.decode('utf-8')))"
   ]
  },
  {
   "cell_type": "code",
   "execution_count": 3,
   "id": "94a722a0",
   "metadata": {},
   "outputs": [],
   "source": [
    "year = 2016\n",
    "\n",
    "# Downloading the csv file from the GitHub repository\n",
    "url = \"https://raw.githubusercontent.com/brown016340/Project---3/benjamin/data/coords.csv\"\n",
    "download = requests.get(url).content\n",
    "\n",
    "# Reading the downloaded content and turning it into a pandas dataframe\n",
    "coords_df = pd.read_csv(io.StringIO(download.decode('utf-8')))\n",
    "\n",
    "# Printing out the first 5 rows of the dataframe\n",
    "coords_df.head()\n",
    "# Downloading the csv file from the GitHub repository\n",
    "url = f\"https://raw.githubusercontent.com/brown016340/Project---3/benjamin/data/{year}cleaned.csv\"\n",
    "download = requests.get(url).content\n",
    "\n",
    "# Reading the downloaded content and turning it into a pandas dataframe\n",
    "data16_df = pd.read_csv(io.StringIO(download.decode('utf-8')))"
   ]
  },
  {
   "cell_type": "code",
   "execution_count": 4,
   "id": "d38955b9",
   "metadata": {},
   "outputs": [],
   "source": [
    "year = 2017\n",
    "\n",
    "# Downloading the csv file from the GitHub repository\n",
    "url = \"https://raw.githubusercontent.com/brown016340/Project---3/benjamin/data/coords.csv\"\n",
    "download = requests.get(url).content\n",
    "\n",
    "# Reading the downloaded content and turning it into a pandas dataframe\n",
    "coords_df = pd.read_csv(io.StringIO(download.decode('utf-8')))\n",
    "\n",
    "# Printing out the first 5 rows of the dataframe\n",
    "coords_df.head()\n",
    "# Downloading the csv file from the GitHub repository\n",
    "url = f\"https://raw.githubusercontent.com/brown016340/Project---3/benjamin/data/{year}cleaned.csv\"\n",
    "download = requests.get(url).content\n",
    "\n",
    "# Reading the downloaded content and turning it into a pandas dataframe\n",
    "data17_df = pd.read_csv(io.StringIO(download.decode('utf-8')))"
   ]
  },
  {
   "cell_type": "code",
   "execution_count": 5,
   "id": "a688a9f6",
   "metadata": {},
   "outputs": [],
   "source": [
    "year = 2018\n",
    "\n",
    "# Downloading the csv file from the GitHub repository\n",
    "url = \"https://raw.githubusercontent.com/brown016340/Project---3/benjamin/data/coords.csv\"\n",
    "download = requests.get(url).content\n",
    "\n",
    "# Reading the downloaded content and turning it into a pandas dataframe\n",
    "coords_df = pd.read_csv(io.StringIO(download.decode('utf-8')))\n",
    "\n",
    "# Printing out the first 5 rows of the dataframe\n",
    "coords_df.head()\n",
    "# Downloading the csv file from the GitHub repository\n",
    "url = f\"https://raw.githubusercontent.com/brown016340/Project---3/benjamin/data/{year}cleaned.csv\"\n",
    "download = requests.get(url).content\n",
    "\n",
    "# Reading the downloaded content and turning it into a pandas dataframe\n",
    "data18_df = pd.read_csv(io.StringIO(download.decode('utf-8')))"
   ]
  },
  {
   "cell_type": "code",
   "execution_count": 6,
   "id": "60349470",
   "metadata": {},
   "outputs": [],
   "source": [
    "year = 2019\n",
    "\n",
    "# Downloading the csv file from the GitHub repository\n",
    "url = \"https://raw.githubusercontent.com/brown016340/Project---3/benjamin/data/coords.csv\"\n",
    "download = requests.get(url).content\n",
    "\n",
    "# Reading the downloaded content and turning it into a pandas dataframe\n",
    "coords_df = pd.read_csv(io.StringIO(download.decode('utf-8')))\n",
    "\n",
    "# Printing out the first 5 rows of the dataframe\n",
    "coords_df.head()\n",
    "# Downloading the csv file from the GitHub repository\n",
    "url = f\"https://raw.githubusercontent.com/brown016340/Project---3/benjamin/data/{year}cleaned.csv\"\n",
    "download = requests.get(url).content\n",
    "\n",
    "# Reading the downloaded content and turning it into a pandas dataframe\n",
    "data19_df = pd.read_csv(io.StringIO(download.decode('utf-8')))"
   ]
  },
  {
   "cell_type": "code",
   "execution_count": null,
   "id": "7e84b1df",
   "metadata": {},
   "outputs": [],
   "source": [
    "data16_df= data16_df.drop(columns='Year')"
   ]
  },
  {
   "cell_type": "code",
   "execution_count": 7,
   "id": "8b7f1a10",
   "metadata": {},
   "outputs": [
    {
     "data": {
      "application/vnd.jupyter.widget-view+json": {
       "model_id": "8c38311b3ff94d019c6c5876d7d85ea0",
       "version_major": 2,
       "version_minor": 0
      },
      "text/plain": [
       "interactive(children=(Dropdown(description='Select Year:', options={'2015': 0, '2016': 1, '2017': 2}, value=0)…"
      ]
     },
     "metadata": {},
     "output_type": "display_data"
    },
    {
     "data": {
      "text/plain": [
       "<function __main__.update_plot(selected_year_index, selected_country)>"
      ]
     },
     "execution_count": 7,
     "metadata": {},
     "output_type": "execute_result"
    }
   ],
   "source": [
    "# WORKS ASSUMING YEAR COLUMN IS DROPPED FROM CLEANED DF\n",
    "\n",
    "import matplotlib.pyplot as plt\n",
    "import ipywidgets as widgets\n",
    "from ipywidgets import interact\n",
    "\n",
    "# Assuming you have multiple DataFrames, you need to provide a list of them\n",
    "dataframes = [data2015_df, data16_df, data17_df]  # Add more DataFrames as needed\n",
    "years = [2015, 2016, 2017]  # Add more years as needed\n",
    "\n",
    "# Get the unique country names from the selected DataFrame\n",
    "def get_country_names(dataframe):\n",
    "    return dataframe['Country'].unique()\n",
    "\n",
    "# Function to plot happiness factors\n",
    "def plot_happiness_factors(selected_dataframe, country_name):\n",
    "    # Select the row for the specified country\n",
    "    country_row = selected_dataframe[selected_dataframe['Country'] == country_name]\n",
    "\n",
    "    if country_row.empty:\n",
    "        print(f\"No data found for {country_name}\")\n",
    "        return\n",
    "\n",
    "    # Exclude non-numeric columns\n",
    "    numeric_columns = country_row.select_dtypes(include='number')\n",
    "    \n",
    "    # Plot all numeric columns on a single bar chart\n",
    "    plt.figure(figsize=(12, 6))\n",
    "    for column in numeric_columns.columns:\n",
    "        plt.bar(column, country_row[column].values[0], label=column)\n",
    "    \n",
    "    plt.title(f\"Happiness Factors for {country_name}\")\n",
    "    plt.xlabel(\"Factors\")\n",
    "    plt.ylabel(\"Values\")\n",
    "    plt.xticks(rotation=45, ha='right')\n",
    "    plt.legend()\n",
    "    plt.show()\n",
    "\n",
    "# Get the unique country names from the first DataFrame\n",
    "default_dataframe = dataframes[0]\n",
    "country_names = get_country_names(default_dataframe)\n",
    "\n",
    "# Create dropdown widgets for selecting DataFrame and Country\n",
    "dataframe_dropdown = widgets.Dropdown(\n",
    "    options={str(year): i for i, year in enumerate(years)},\n",
    "    value=0,\n",
    "    description='Select Year:',\n",
    ")\n",
    "\n",
    "country_dropdown = widgets.Dropdown(\n",
    "    options=country_names,\n",
    "    value=country_names[0],\n",
    "    description='Select Country:',\n",
    ")\n",
    "\n",
    "# Define the function to update the plot based on the selected DataFrame and country\n",
    "def update_plot(selected_year_index, selected_country):\n",
    "    selected_dataframe = dataframes[int(selected_year_index)]\n",
    "    plot_happiness_factors(selected_dataframe, selected_country)\n",
    "\n",
    "# Connect the dropdown widgets to the update function\n",
    "interact(update_plot, selected_year_index=dataframe_dropdown, selected_country=country_dropdown)"
   ]
  }
 ],
 "metadata": {
  "kernelspec": {
   "display_name": "Python 3 (ipykernel)",
   "language": "python",
   "name": "python3"
  },
  "language_info": {
   "codemirror_mode": {
    "name": "ipython",
    "version": 3
   },
   "file_extension": ".py",
   "mimetype": "text/x-python",
   "name": "python",
   "nbconvert_exporter": "python",
   "pygments_lexer": "ipython3",
   "version": "3.11.5"
  }
 },
 "nbformat": 4,
 "nbformat_minor": 5
}
